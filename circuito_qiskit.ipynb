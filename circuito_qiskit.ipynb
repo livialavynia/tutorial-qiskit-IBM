{
 "cells": [
  {
   "cell_type": "code",
   "execution_count": 1,
   "id": "598218bf-fc47-402a-b37b-227627c41ce6",
   "metadata": {},
   "outputs": [
    {
     "name": "stderr",
     "output_type": "stream",
     "text": [
      "<frozen importlib._bootstrap>:219: RuntimeWarning: scipy._lib.messagestream.MessageStream size changed, may indicate binary incompatibility. Expected 56 from C header, got 64 from PyObject\n"
     ]
    }
   ],
   "source": [
    "from qiskit import *"
   ]
  },
  {
   "cell_type": "code",
   "execution_count": 2,
   "id": "11146a08-5505-45ca-b48e-9a4ec9476ba6",
   "metadata": {},
   "outputs": [],
   "source": [
    "#criando um registro quântico de 2 qubits:\n",
    "b_q = QuantumRegister(2)"
   ]
  },
  {
   "cell_type": "code",
   "execution_count": 3,
   "id": "35bef2ba-024e-4ad7-a91e-0fd7c4a5ca8b",
   "metadata": {},
   "outputs": [],
   "source": [
    "#criando um registro de dois bits clássicos com um Registro clássico para poder fazer medições a partir desses bits quânticos:\n",
    "b_c = ClassicalRegister(2)"
   ]
  },
  {
   "cell_type": "code",
   "execution_count": 4,
   "id": "15666cd9-6a7a-433e-a421-44e17be1ecfb",
   "metadata": {},
   "outputs": [],
   "source": [
    "#Agora que construímos um Registro quântico e um registro clássico, podemos criar um circuito utilizando ambos:\n",
    "circuito = QuantumCircuit(b_q,b_c)"
   ]
  },
  {
   "cell_type": "code",
   "execution_count": 5,
   "id": "0186e768-d958-4fd0-bb6e-6131d2eaba93",
   "metadata": {},
   "outputs": [
    {
     "data": {
      "image/png": "[encoded data removed]",
      "text/plain": [
       "<Figure size 129.533x204.68 with 1 Axes>"
      ]
     },
     "execution_count": 5,
     "metadata": {},
     "output_type": "execute_result"
    }
   ],
   "source": [
    "\n",
    "circuito.draw()"
   ]
  },
  {
   "cell_type": "code",
   "execution_count": 6,
   "id": "efb0a4be-143f-4ba0-9ce5-5bfae8166df6",
   "metadata": {},
   "outputs": [
    {
     "data": {
      "text/plain": [
       "<qiskit.circuit.instructionset.InstructionSet at 0x7fcdf529f240>"
      ]
     },
     "execution_count": 6,
     "metadata": {},
     "output_type": "execute_result"
    }
   ],
   "source": [
    "#Aplicando a porta Hadamard\n",
    "circuito.h(b_q[0])"
   ]
  },
  {
   "cell_type": "code",
   "execution_count": 7,
   "id": "cc1c9eaa-3167-4d12-a964-761f1345f45d",
   "metadata": {},
   "outputs": [
    {
     "data": {
      "image/png": "[encoded data removed]",
      "text/plain": [
       "<Figure size 159.633x204.68 with 1 Axes>"
      ]
     },
     "execution_count": 7,
     "metadata": {},
     "output_type": "execute_result"
    }
   ],
   "source": [
    "circuito.draw()"
   ]
  },
  {
   "cell_type": "code",
   "execution_count": 8,
   "id": "42a06bcd-926a-41ba-bc6e-ff1f307ab495",
   "metadata": {},
   "outputs": [
    {
     "data": {
      "text/plain": [
       "<qiskit.circuit.instructionset.InstructionSet at 0x7fcdf510ed80>"
      ]
     },
     "execution_count": 8,
     "metadata": {},
     "output_type": "execute_result"
    }
   ],
   "source": [
    "#Aplicando a porta CNOT\n",
    "circuito.cx(b_q[0], b_q[1])"
   ]
  },
  {
   "cell_type": "code",
   "execution_count": 9,
   "id": "3771d8e0-d6ea-428f-9e0a-e0c48868f0fe",
   "metadata": {},
   "outputs": [
    {
     "data": {
      "image/png": "[encoded data removed]",
      "text/plain": [
       "<Figure size 219.833x204.68 with 1 Axes>"
      ]
     },
     "execution_count": 9,
     "metadata": {},
     "output_type": "execute_result"
    }
   ],
   "source": [
    "circuito.draw()"
   ]
  },
  {
   "cell_type": "code",
   "execution_count": 10,
   "id": "68ae454c-e26b-4c74-8bcc-bf046b0425be",
   "metadata": {},
   "outputs": [
    {
     "data": {
      "text/plain": [
       "<qiskit.circuit.instructionset.InstructionSet at 0x7fcdf56af800>"
      ]
     },
     "execution_count": 10,
     "metadata": {},
     "output_type": "execute_result"
    }
   ],
   "source": [
    "#Fazendo a medição dos Qubits e armazenando essas medições nos bits clássicos:\n",
    "circuito.measure(b_q, b_c)"
   ]
  },
  {
   "cell_type": "code",
   "execution_count": 11,
   "id": "051e2a79-1b81-46aa-b13d-bdff0aaaab96",
   "metadata": {},
   "outputs": [
    {
     "data": {
      "image/png": "[encoded data removed]",
      "text/plain": [
       "<Figure size 340.233x204.68 with 1 Axes>"
      ]
     },
     "execution_count": 11,
     "metadata": {},
     "output_type": "execute_result"
    }
   ],
   "source": [
    "circuito.draw()"
   ]
  },
  {
   "cell_type": "code",
   "execution_count": 12,
   "id": "c0be0715-451d-42cc-9ce7-bc7896af5b2f",
   "metadata": {},
   "outputs": [],
   "source": [
    "simulador = Aer.get_backend('qasm_simulator')"
   ]
  },
  {
   "cell_type": "code",
   "execution_count": 13,
   "id": "4b9fb994-f846-4cdd-87d6-b8355a8c0b7d",
   "metadata": {},
   "outputs": [],
   "source": [
    "#Executar e trazer de voltar os resultados obtidos .result\n",
    "resultado = execute(circuito, backend = simulador).result()\n",
    "\n",
    "#a variável está guardando todas as informações extraídas da execução do circuito"
   ]
  },
  {
   "cell_type": "code",
   "execution_count": 14,
   "id": "c769cc35-8a24-4c8b-a635-2e4457e15f8e",
   "metadata": {},
   "outputs": [],
   "source": [
    "#visualização:\n",
    "from qiskit.tools.visualization import plot_histogram"
   ]
  },
  {
   "cell_type": "code",
   "execution_count": 15,
   "id": "66bc97e5-39cf-4797-a593-79958f36e0a4",
   "metadata": {},
   "outputs": [
    {
     "data": {
      "image/png": "[encoded data removed]",
      "text/plain": [
       "<Figure size 504x360 with 1 Axes>"
      ]
     },
     "execution_count": 15,
     "metadata": {},
     "output_type": "execute_result"
    }
   ],
   "source": [
    "plot_histogram(resultado.get_counts(circuito))"
   ]
  },
  {
   "cell_type": "code",
   "execution_count": null,
   "id": "b8706226-b273-43d5-aefb-135cc6e89f64",
   "metadata": {},
   "outputs": [],
   "source": []
  },
  {
   "cell_type": "code",
   "execution_count": null,
   "id": "e794d6bf-d362-4d0a-bf94-98c2361f2eaa",
   "metadata": {},
   "outputs": [],
   "source": []
  }
 ],
 "metadata": {
  "kernelspec": {
   "display_name": "Qiskit v0.34.2 (ipykernel)",
   "language": "python",
   "name": "python3"
  },
  "language_info": {
   "codemirror_mode": {
    "name": "ipython",
    "version": 3
   },
   "file_extension": ".py",
   "mimetype": "text/x-python",
   "name": "python",
   "nbconvert_exporter": "python",
   "pygments_lexer": "ipython3",
   "version": "3.8.12"
  },
  "widgets": {
   "application/vnd.jupyter.widget-state+json": {
    "state": {},
    "version_major": 2,
    "version_minor": 0
   }
  }
 },
 "nbformat": 4,
 "nbformat_minor": 5
}
